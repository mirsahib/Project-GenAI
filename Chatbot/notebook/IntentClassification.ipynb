{
 "cells": [
  {
   "cell_type": "code",
   "execution_count": 1,
   "metadata": {},
   "outputs": [
    {
     "name": "stderr",
     "output_type": "stream",
     "text": [
      "/home/mirsahib/Desktop/2024/Project GenAI/Chatbot/env/lib/python3.8/site-packages/tqdm/auto.py:21: TqdmWarning: IProgress not found. Please update jupyter and ipywidgets. See https://ipywidgets.readthedocs.io/en/stable/user_install.html\n",
      "  from .autonotebook import tqdm as notebook_tqdm\n"
     ]
    }
   ],
   "source": [
    "from sklearn.model_selection import train_test_split\n",
    "from sklearn.feature_extraction.text import TfidfVectorizer\n",
    "from sklearn.preprocessing import LabelEncoder\n",
    "from sklearn.linear_model import LogisticRegression\n",
    "from sklearn.metrics import accuracy_score\n",
    "from sklearn.metrics import classification_report\n",
    "import pandas as pd\n",
    "import numpy as np\n",
    "import matplotlib.pyplot as plt\n",
    "import seaborn as sns\n",
    "import kagglehub\n",
    "import os\n"
   ]
  },
  {
   "cell_type": "code",
   "execution_count": 2,
   "metadata": {},
   "outputs": [
    {
     "name": "stdout",
     "output_type": "stream",
     "text": [
      "Warning: Looks like you're using an outdated `kagglehub` version, please consider updating (latest version: 0.3.8)\n",
      "Files in dataset: ['Bitext_Sample_Customer_Support_Training_Dataset_27K_responses-v11.csv']\n",
      "   flags                                        instruction category  \\\n",
      "0      B   question about cancelling order {{Order Number}}    ORDER   \n",
      "1    BQZ  i have a question about cancelling oorder {{Or...    ORDER   \n",
      "2   BLQZ    i need help cancelling puchase {{Order Number}}    ORDER   \n",
      "3     BL         I need to cancel purchase {{Order Number}}    ORDER   \n",
      "4  BCELN  I cannot afford this order, cancel purchase {{...    ORDER   \n",
      "\n",
      "         intent                                           response  \n",
      "0  cancel_order  I've understood you have a question regarding ...  \n",
      "1  cancel_order  I've been informed that you have a question ab...  \n",
      "2  cancel_order  I can sense that you're seeking assistance wit...  \n",
      "3  cancel_order  I understood that you need assistance with can...  \n",
      "4  cancel_order  I'm sensitive to the fact that you're facing f...  \n"
     ]
    }
   ],
   "source": [
    "path = kagglehub.dataset_download(\"bitext/bitext-gen-ai-chatbot-customer-support-dataset\")\n",
    "files = os.listdir(path)\n",
    "print(\"Files in dataset:\", files)\n",
    "\n",
    "csv_files = [f for f in files if f.endswith(\".csv\")]\n",
    "if csv_files:\n",
    "    df = pd.read_csv(os.path.join(path, csv_files[0]))  # Load the first CSV file\n",
    "    print(df.head())\n",
    "else:\n",
    "    print(\"No CSV files found in the dataset.\")"
   ]
  },
  {
   "cell_type": "code",
   "execution_count": 3,
   "metadata": {},
   "outputs": [],
   "source": [
    "X = df['instruction']\n",
    "y = df['intent']"
   ]
  },
  {
   "cell_type": "code",
   "execution_count": 4,
   "metadata": {},
   "outputs": [
    {
     "name": "stdout",
     "output_type": "stream",
     "text": [
      "Training set: 21497\n",
      "Validation set: 2687\n",
      "Test set: 2688\n"
     ]
    }
   ],
   "source": [
    "X_train, X_temp, y_train, y_temp = train_test_split(X, y, test_size=0.2, random_state=42, stratify=y)\n",
    "X_val, X_test, y_val, y_test = train_test_split(X_temp, y_temp, test_size=0.5, random_state=42, stratify=y_temp)\n",
    "\n",
    "# Print dataset sizes\n",
    "print(f\"Training set: {len(X_train)}\")\n",
    "print(f\"Validation set: {len(X_val)}\")\n",
    "print(f\"Test set: {len(X_test)}\")"
   ]
  },
  {
   "cell_type": "code",
   "execution_count": 5,
   "metadata": {},
   "outputs": [],
   "source": [
    "\n",
    "# Encode intent labels\n",
    "label_encoder = LabelEncoder()\n",
    "y_train_encoded = label_encoder.fit_transform(y_train)\n",
    "y_val_encoded = label_encoder.transform(y_val)\n",
    "y_test_encoded = label_encoder.transform(y_test)\n"
   ]
  },
  {
   "cell_type": "code",
   "execution_count": 6,
   "metadata": {},
   "outputs": [],
   "source": [
    "\n",
    "# Initialize TF-IDF Vectorizer\n",
    "vectorizer = TfidfVectorizer(max_features=5000)  # Limit vocab size for efficiency\n",
    "\n",
    "# Convert instructions into numerical vectors\n",
    "X_train_tfidf = vectorizer.fit_transform(X_train)\n",
    "X_val_tfidf = vectorizer.transform(X_val)\n",
    "X_test_tfidf = vectorizer.transform(X_test)\n"
   ]
  },
  {
   "cell_type": "code",
   "execution_count": 7,
   "metadata": {},
   "outputs": [
    {
     "name": "stdout",
     "output_type": "stream",
     "text": [
      "TF-IDF Accuracy: 0.9951636904761905\n"
     ]
    }
   ],
   "source": [
    "model_tfidf = LogisticRegression()\n",
    "model_tfidf.fit(X_train_tfidf, y_train_encoded)\n",
    "y_pred_tfidf = model_tfidf.predict(X_test_tfidf)\n",
    "\n",
    "# Evaluate\n",
    "print(\"TF-IDF Accuracy:\", accuracy_score(y_test_encoded, y_pred_tfidf))\n"
   ]
  },
  {
   "cell_type": "code",
   "execution_count": 8,
   "metadata": {},
   "outputs": [
    {
     "name": "stdout",
     "output_type": "stream",
     "text": [
      "TF-IDF Model Performance:\n",
      "                           precision    recall  f1-score   support\n",
      "\n",
      "            cancel_order       1.00      1.00      1.00       100\n",
      "            change_order       0.97      0.98      0.97        99\n",
      " change_shipping_address       1.00      1.00      1.00        97\n",
      "  check_cancellation_fee       1.00      1.00      1.00        95\n",
      "           check_invoice       1.00      1.00      1.00       100\n",
      "   check_payment_methods       1.00      1.00      1.00       100\n",
      "     check_refund_policy       1.00      1.00      1.00       100\n",
      "               complaint       1.00      1.00      1.00       100\n",
      "contact_customer_service       1.00      1.00      1.00       100\n",
      "     contact_human_agent       1.00      1.00      1.00       100\n",
      "          create_account       0.98      0.98      0.98       100\n",
      "          delete_account       0.98      1.00      0.99        99\n",
      "        delivery_options       1.00      1.00      1.00       100\n",
      "         delivery_period       1.00      1.00      1.00       100\n",
      "            edit_account       0.97      1.00      0.99       100\n",
      "             get_invoice       1.00      1.00      1.00       100\n",
      "              get_refund       1.00      1.00      1.00       100\n",
      " newsletter_subscription       1.00      1.00      1.00       100\n",
      "           payment_issue       0.99      0.99      0.99       100\n",
      "             place_order       1.00      0.99      0.99       100\n",
      "        recover_password       1.00      1.00      1.00        99\n",
      "   registration_problems       0.99      0.97      0.98       100\n",
      "                  review       1.00      1.00      1.00       100\n",
      " set_up_shipping_address       1.00      1.00      1.00        99\n",
      "          switch_account       1.00      0.99      0.99       100\n",
      "             track_order       1.00      0.97      0.98       100\n",
      "            track_refund       0.99      1.00      1.00       100\n",
      "\n",
      "                accuracy                           1.00      2688\n",
      "               macro avg       1.00      1.00      1.00      2688\n",
      "            weighted avg       1.00      1.00      1.00      2688\n",
      "\n"
     ]
    }
   ],
   "source": [
    "\n",
    "# Generate classification report\n",
    "report_tfidf = classification_report(y_test_encoded, y_pred_tfidf, target_names=label_encoder.classes_)\n",
    "print(\"TF-IDF Model Performance:\\n\", report_tfidf)\n"
   ]
  },
  {
   "cell_type": "code",
   "execution_count": 10,
   "metadata": {},
   "outputs": [
    {
     "name": "stdout",
     "output_type": "stream",
     "text": [
      "Sentence: what is your return policy?\n",
      "Predicted Intent: check_refund_policy\n"
     ]
    }
   ],
   "source": [
    "sentence = 'what is your return policy?'\n",
    "\n",
    "sentence_tfidf = vectorizer.transform([sentence])\n",
    "intent = label_encoder.inverse_transform(model_tfidf.predict(sentence_tfidf))\n",
    "print(f\"Sentence: {sentence}\")\n",
    "print(f\"Predicted Intent: {intent[0]}\")"
   ]
  },
  {
   "cell_type": "code",
   "execution_count": null,
   "metadata": {},
   "outputs": [],
   "source": []
  }
 ],
 "metadata": {
  "kernelspec": {
   "display_name": "env",
   "language": "python",
   "name": "python3"
  },
  "language_info": {
   "codemirror_mode": {
    "name": "ipython",
    "version": 3
   },
   "file_extension": ".py",
   "mimetype": "text/x-python",
   "name": "python",
   "nbconvert_exporter": "python",
   "pygments_lexer": "ipython3",
   "version": "3.8.10"
  }
 },
 "nbformat": 4,
 "nbformat_minor": 2
}
