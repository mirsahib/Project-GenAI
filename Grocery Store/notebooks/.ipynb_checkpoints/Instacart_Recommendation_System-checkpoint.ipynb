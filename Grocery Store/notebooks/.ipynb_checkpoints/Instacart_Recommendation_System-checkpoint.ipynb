{
 "cells": [
  {
   "cell_type": "code",
   "execution_count": 1,
   "id": "28966fb7-3ce3-4fc6-bd8e-c2040027a47e",
   "metadata": {},
   "outputs": [],
   "source": [
    "import pandas as pd"
   ]
  },
  {
   "cell_type": "code",
   "execution_count": 7,
   "id": "cc8fd424-ce28-4d12-bb74-20b9f9b822b3",
   "metadata": {},
   "outputs": [],
   "source": [
    "aisles_data = pd.read_csv(\"../data/aisles.csv\")\n",
    "department_data = pd.read_csv(\"../data/departments.csv\")\n",
    "order_products__prior_data = pd.read_csv(\"../data/order_products__prior.csv\")\n",
    "orders_data = pd.read_csv(\"../data/orders.csv\")\n",
    "products_data = pd.read_csv(\"../data/products.csv\")"
   ]
  },
  {
   "cell_type": "code",
   "execution_count": 4,
   "id": "65cb5ff4-4e8f-4427-890a-308494f1fe61",
   "metadata": {},
   "outputs": [
    {
     "name": "stdout",
     "output_type": "stream",
     "text": [
      "/home/mirsahib/Desktop/2024/Project GenAI/Grocery Store/notebooks\n"
     ]
    }
   ],
   "source": []
  },
  {
   "cell_type": "code",
   "execution_count": null,
   "id": "4921eba7-b4b0-4b75-a642-fafa1acab698",
   "metadata": {},
   "outputs": [],
   "source": []
  }
 ],
 "metadata": {
  "kernelspec": {
   "display_name": "Python 3 (ipykernel)",
   "language": "python",
   "name": "python3"
  },
  "language_info": {
   "codemirror_mode": {
    "name": "ipython",
    "version": 3
   },
   "file_extension": ".py",
   "mimetype": "text/x-python",
   "name": "python",
   "nbconvert_exporter": "python",
   "pygments_lexer": "ipython3",
   "version": "3.12.2"
  }
 },
 "nbformat": 4,
 "nbformat_minor": 5
}
